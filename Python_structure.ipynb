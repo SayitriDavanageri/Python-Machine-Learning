{
  "cells": [
    {
      "cell_type": "code",
      "execution_count": null,
      "metadata": {
        "colab": {
          "base_uri": "https://localhost:8080/"
        },
        "id": "2Jk3yeJw-Gle",
        "outputId": "dc50a301-9c46-4489-e582-8ce30c026a8e"
      },
      "outputs": [
        {
          "name": "stdout",
          "output_type": "stream",
          "text": [
            "my name is sayitri .\n"
          ]
        }
      ],
      "source": [
        "name=\"sayitri\"\n",
        "print(\"my name is\",name,\".\")"
      ]
    },
    {
      "cell_type": "code",
      "execution_count": null,
      "metadata": {
        "colab": {
          "base_uri": "https://localhost:8080/"
        },
        "id": "GPEYETRi_Sp-",
        "outputId": "2e460ad6-a0c9-4753-e972-bfe20843f92e"
      },
      "outputs": [
        {
          "name": "stdout",
          "output_type": "stream",
          "text": [
            "my name is sayitri.\n"
          ]
        }
      ],
      "source": [
        "n=\"sayitri\"\n",
        "print(f\"my name is {name}.\")"
      ]
    },
    {
      "cell_type": "markdown",
      "metadata": {
        "id": "Geru6xEwFw-d"
      },
      "source": [
        "#**Python syntax and structure**"
      ]
    },
    {
      "cell_type": "markdown",
      "metadata": {
        "id": "DqXz7Sr2GAYt"
      },
      "source": [
        "#**Basic syntax rules**"
      ]
    },
    {
      "cell_type": "code",
      "execution_count": null,
      "metadata": {
        "colab": {
          "base_uri": "https://localhost:8080/"
        },
        "id": "ZFqpSLOfGQHl",
        "outputId": "63ccc856-41ac-428c-d113-d9a4f5e1685c"
      },
      "outputs": [
        {
          "name": "stdout",
          "output_type": "stream",
          "text": [
            "hello,World\n"
          ]
        }
      ],
      "source": [
        "print(\"hello,World\")#function call\n",
        "x=5 #variable assignment\n",
        "y=10 # no need to declare type"
      ]
    },
    {
      "cell_type": "markdown",
      "metadata": {
        "id": "VPzX-TfVG9fV"
      },
      "source": [
        "#**Python is case-sensitive**"
      ]
    },
    {
      "cell_type": "code",
      "execution_count": null,
      "metadata": {
        "colab": {
          "base_uri": "https://localhost:8080/"
        },
        "id": "1qVqQ9OxHH41",
        "outputId": "af2c25a4-45d7-4ca9-8168-4cdddc5ecaa8"
      },
      "outputs": [
        {
          "name": "stdout",
          "output_type": "stream",
          "text": [
            "John Jannet\n"
          ]
        }
      ],
      "source": [
        "Name=\"John\"\n",
        "name=\"Jannet\"\n",
        "print(Name,name)"
      ]
    },
    {
      "cell_type": "markdown",
      "metadata": {
        "id": "zYxqDN-bH1-t"
      },
      "source": [
        "#**Indentation matters**"
      ]
    },
    {
      "cell_type": "code",
      "execution_count": null,
      "metadata": {
        "colab": {
          "base_uri": "https://localhost:8080/"
        },
        "id": "jyDpDMPPxQOf",
        "outputId": "0330ce1f-25e8-4980-fccf-797c3edf1031"
      },
      "outputs": [
        {
          "name": "stdout",
          "output_type": "stream",
          "text": [
            "x is positive\n",
            "this is inside if block\n"
          ]
        }
      ],
      "source": [
        "if x>0:\n",
        "  print(\"x is positive\") # 4 spaces indentation\n",
        "  print(\"this is inside if block\")"
      ]
    },
    {
      "cell_type": "markdown",
      "metadata": {
        "id": "7vniranfIqht"
      },
      "source": [
        "#**Variables and Data types**"
      ]
    },
    {
      "cell_type": "markdown",
      "metadata": {
        "id": "bBf_2uIiJSZN"
      },
      "source": [
        "#Numeric type"
      ]
    },
    {
      "cell_type": "code",
      "execution_count": null,
      "metadata": {
        "id": "MQoQPcxvIB9W"
      },
      "outputs": [],
      "source": [
        "age=20 #int\n",
        "height=5.8 #float\n",
        "complex_num=3+4j #complex"
      ]
    },
    {
      "cell_type": "markdown",
      "metadata": {
        "id": "NOraPocdKUuF"
      },
      "source": [
        "#String type"
      ]
    },
    {
      "cell_type": "code",
      "execution_count": null,
      "metadata": {
        "id": "GqxbMZGRKYJF"
      },
      "outputs": [],
      "source": [
        "name=\"sayitri\"\n",
        "message='hello world'\n",
        "multiline=\"\"\"this is multiline string type\"\"\""
      ]
    },
    {
      "cell_type": "markdown",
      "metadata": {
        "id": "iS1ijL7YMgkl"
      },
      "source": [
        "#Boolean type"
      ]
    },
    {
      "cell_type": "code",
      "execution_count": null,
      "metadata": {
        "id": "kXnvUTeVNDo1"
      },
      "outputs": [],
      "source": [
        "is_active=True\n",
        "is_finished=False"
      ]
    },
    {
      "cell_type": "markdown",
      "metadata": {
        "id": "ba481lAQNLxd"
      },
      "source": [
        "#Type checking"
      ]
    },
    {
      "cell_type": "code",
      "execution_count": null,
      "metadata": {
        "colab": {
          "base_uri": "https://localhost:8080/"
        },
        "id": "m2oZI2mqNRsU",
        "outputId": "a2f8a31e-1476-4975-d1f9-8622d39e9c77"
      },
      "outputs": [
        {
          "name": "stdout",
          "output_type": "stream",
          "text": [
            "<class 'int'>\n",
            "<class 'float'>\n",
            "<class 'str'>\n"
          ]
        }
      ],
      "source": [
        "print(type(age)) #<class 'int'>\n",
        "print(type(height)) #<class 'float'>\n",
        "print(type(name)) #<class 'str'>"
      ]
    },
    {
      "cell_type": "code",
      "execution_count": null,
      "metadata": {
        "colab": {
          "base_uri": "https://localhost:8080/"
        },
        "id": "40--hteANyzF",
        "outputId": "eaed0037-ea38-4342-ddf7-626cba8ea08d"
      },
      "outputs": [
        {
          "data": {
            "text/plain": [
              "int"
            ]
          },
          "execution_count": 52,
          "metadata": {},
          "output_type": "execute_result"
        }
      ],
      "source": [
        "type(age)"
      ]
    },
    {
      "cell_type": "markdown",
      "metadata": {
        "id": "Wwv_zGrrNweV"
      },
      "source": [
        "#**Type conversion**"
      ]
    },
    {
      "cell_type": "code",
      "execution_count": null,
      "metadata": {
        "colab": {
          "base_uri": "https://localhost:8080/"
        },
        "id": "uHfvWtEmOGp9",
        "outputId": "6e73f039-57e0-4df6-bfbe-e388882f61cb"
      },
      "outputs": [
        {
          "name": "stdout",
          "output_type": "stream",
          "text": [
            "original:123 (type:<class 'str'>)\n",
            "integer:123 (type:<class 'int'>)\n",
            "float:123.0 (type:<class 'float'>\n"
          ]
        }
      ],
      "source": [
        "str_number=\"123\"\n",
        "int_number=int(str_number)\n",
        "float_number=float(str_number)\n",
        "print(f\"original:{str_number} (type:{type(str_number)})\")\n",
        "print(f\"integer:{int_number} (type:{type(int_number)})\")\n",
        "print(f\"float:{float_number} (type:{type(float_number)}\")"
      ]
    },
    {
      "cell_type": "markdown",
      "metadata": {
        "id": "eh_EEmBHe_Ak"
      },
      "source": [
        "#**hands on exercise:**"
      ]
    },
    {
      "cell_type": "markdown",
      "metadata": {
        "id": "G79sIYH1gzzk"
      },
      "source": [
        "#**Exercise 1:Personal Information**"
      ]
    },
    {
      "cell_type": "markdown",
      "metadata": {
        "id": "P38QEmDMhzRT"
      },
      "source": [
        "#create variables for personal information"
      ]
    },
    {
      "cell_type": "code",
      "execution_count": null,
      "metadata": {
        "id": "JgRtPRpdh8aL"
      },
      "outputs": [],
      "source": [
        "first_name=\"Sayitri\"\n",
        "last_name=\"Davanageri\"\n",
        "age=20\n",
        "height=5.8\n",
        "is_student=True"
      ]
    },
    {
      "cell_type": "markdown",
      "metadata": {
        "id": "1FEOIkpHiSck"
      },
      "source": [
        "#print formatted information"
      ]
    },
    {
      "cell_type": "code",
      "execution_count": null,
      "metadata": {
        "colab": {
          "base_uri": "https://localhost:8080/"
        },
        "id": "5JpvXMuaiW3k",
        "outputId": "a10c6670-ff34-4912-eec0-8d13e0083e42"
      },
      "outputs": [
        {
          "name": "stdout",
          "output_type": "stream",
          "text": [
            "Sayitri Davanageri\n",
            "Age:20\n",
            "Height:5.8 feet\n",
            "Student:True\n"
          ]
        }
      ],
      "source": [
        "print(f\"{first_name} {last_name}\")\n",
        "print(f\"Age:{age}\")\n",
        "print(f\"Height:{height} feet\")\n",
        "print(f\"Student:{is_student}\")"
      ]
    },
    {
      "cell_type": "markdown",
      "metadata": {
        "id": "xbBgTbHijxXs"
      },
      "source": [
        "#Type conversions"
      ]
    },
    {
      "cell_type": "code",
      "execution_count": null,
      "metadata": {
        "colab": {
          "base_uri": "https://localhost:8080/"
        },
        "id": "bD08RLW9j1I7",
        "outputId": "d4224afc-9250-4959-b77e-960683d630a1"
      },
      "outputs": [
        {
          "name": "stdout",
          "output_type": "stream",
          "text": [
            "age as string:20\n",
            "height as integer:5\n"
          ]
        }
      ],
      "source": [
        "age_str=str(age)\n",
        "height_int=int(height)\n",
        "print(f\"age as string:{age_str}\")\n",
        "print(f\"height as integer:{height_int}\")"
      ]
    },
    {
      "cell_type": "markdown",
      "metadata": {
        "id": "nX_iT9YnkXxU"
      },
      "source": [
        "#**Operators and basic operations**"
      ]
    },
    {
      "cell_type": "markdown",
      "metadata": {
        "id": "kbVXm9lEl4dM"
      },
      "source": [
        "#arithmatic operators"
      ]
    },
    {
      "cell_type": "code",
      "execution_count": null,
      "metadata": {
        "colab": {
          "base_uri": "https://localhost:8080/"
        },
        "id": "D6lbuAhFmh5L",
        "outputId": "b6be8834-5634-45b9-a21a-f5f40ed31f53"
      },
      "outputs": [
        {
          "name": "stdout",
          "output_type": "stream",
          "text": [
            "10+5=15\n",
            "10-5=5\n",
            "10*5=50\n",
            "10/5=2.0\n",
            "10//5=2\n",
            "10%5=0\n",
            "10**5=100000\n"
          ]
        }
      ],
      "source": [
        "a=10\n",
        "b=5\n",
        "print(f\"{a}+{b}={a+b}\")\n",
        "print(f\"{a}-{b}={a-b}\")\n",
        "print(f\"{a}*{b}={a*b}\")\n",
        "print(f\"{a}/{b}={a/b}\")\n",
        "print(f\"{a}//{b}={a//b}\")\n",
        "print(f\"{a}%{b}={a%b}\")\n",
        "print(f\"{a}**{b}={a**b}\")"
      ]
    },
    {
      "cell_type": "markdown",
      "metadata": {
        "id": "T_jjHhNwoDrj"
      },
      "source": [
        "##**Order of operations(PEMDAS)**"
      ]
    },
    {
      "cell_type": "markdown",
      "metadata": {
        "id": "68JNV8R3oc2k"
      },
      "source": [
        "\n",
        "\n",
        "*   **P-Parentheses**\n",
        "*   **E-Exponents**\n",
        "\n",
        "*   **M-Multiplication**\n",
        "\n",
        "*   **D-Division**\n",
        "*   **A-Addition**\n",
        "\n",
        "\n",
        "*   **S-Subtraction**\n",
        "\n",
        "\n",
        "\n",
        "\n"
      ]
    },
    {
      "cell_type": "code",
      "execution_count": null,
      "metadata": {
        "colab": {
          "base_uri": "https://localhost:8080/"
        },
        "id": "w95Y0i5YpLYs",
        "outputId": "391e4332-0e24-4524-9544-ba01ebba5c43"
      },
      "outputs": [
        {
          "name": "stdout",
          "output_type": "stream",
          "text": [
            "2+3*4**2-1=49\n"
          ]
        }
      ],
      "source": [
        "result=2+3*4**2-1\n",
        "print(f\"2+3*4**2-1={result}\")"
      ]
    },
    {
      "cell_type": "markdown",
      "metadata": {
        "id": "DrL1JS8fsEoV"
      },
      "source": [
        "#Relational or comparison operators"
      ]
    },
    {
      "cell_type": "code",
      "execution_count": null,
      "metadata": {
        "colab": {
          "base_uri": "https://localhost:8080/"
        },
        "id": "tAo9h-Kos979",
        "outputId": "4cff9cab-75df-4768-923a-bb6b2425510b"
      },
      "outputs": [
        {
          "name": "stdout",
          "output_type": "stream",
          "text": [
            "5==10=False\n",
            "5!=10=True\n",
            "5<10=True\n",
            "5>10=False\n",
            "5<=10=True\n",
            "5>=10=False\n"
          ]
        }
      ],
      "source": [
        "x=5\n",
        "y=10\n",
        "print(f\"{x}=={y}={x==y}\")\n",
        "print(f\"{x}!={y}={x!=y}\")\n",
        "print(f\"{x}<{y}={x<y}\")\n",
        "print(f\"{x}>{y}={x>y}\")\n",
        "print(f\"{x}<={y}={x<=y}\")\n",
        "print(f\"{x}>={y}={x>=y}\")"
      ]
    },
    {
      "cell_type": "markdown",
      "metadata": {
        "id": "_VUhWgYBtp4z"
      },
      "source": [
        "#String operation"
      ]
    },
    {
      "cell_type": "code",
      "execution_count": null,
      "metadata": {
        "colab": {
          "base_uri": "https://localhost:8080/"
        },
        "id": "5MwSUlBhtt3V",
        "outputId": "f356a31c-c161-4138-8987-b2fdb632ffa4"
      },
      "outputs": [
        {
          "name": "stdout",
          "output_type": "stream",
          "text": [
            "alice<bob=True\n"
          ]
        }
      ],
      "source": [
        "name1=\"alice\"\n",
        "name2=\"bob\"\n",
        "print(f\"{name1}<{name2}={name1<name2}\")"
      ]
    },
    {
      "cell_type": "markdown",
      "metadata": {
        "id": "RJiAAfvEvaqF"
      },
      "source": [
        "#Logical operators"
      ]
    },
    {
      "cell_type": "code",
      "execution_count": null,
      "metadata": {
        "colab": {
          "base_uri": "https://localhost:8080/"
        },
        "id": "sIJh6GIovfAj",
        "outputId": "127e58b4-db17-47b5-8e28-5efa43cc26ba"
      },
      "outputs": [
        {
          "name": "stdout",
          "output_type": "stream",
          "text": [
            "p and q=False\n",
            "p or q=True\n",
            "not p=False\n"
          ]
        }
      ],
      "source": [
        "p=True\n",
        "q=False\n",
        "print(f\"p and q={p and q}\") # both must be true\n",
        "print(f\"p or q={p or q}\") # at least one must be true\n",
        "print(f\"not p={not p}\") #opposite of p"
      ]
    },
    {
      "cell_type": "code",
      "execution_count": null,
      "metadata": {
        "colab": {
          "base_uri": "https://localhost:8080/"
        },
        "id": "RvudZGwEwHAk",
        "outputId": "f9381006-cb33-4c67-fb09-0c48f59bb64a"
      },
      "outputs": [
        {
          "name": "stdout",
          "output_type": "stream",
          "text": [
            "Can drive:True\n"
          ]
        }
      ],
      "source": [
        "#practical example\n",
        "age=20\n",
        "has_license=True\n",
        "can_drive=age>=18 and has_license\n",
        "print(f\"Can drive:{can_drive}\")"
      ]
    },
    {
      "cell_type": "code",
      "execution_count": null,
      "metadata": {
        "colab": {
          "base_uri": "https://localhost:8080/"
        },
        "id": "xlpBFKPnwlED",
        "outputId": "85a1b45f-00fe-421c-ec3d-f038078a7a8f"
      },
      "outputs": [
        {
          "name": "stdout",
          "output_type": "stream",
          "text": [
            "Can pass:True\n"
          ]
        }
      ],
      "source": [
        "#multiple conditions\n",
        "score=85\n",
        "is_present=True\n",
        "can_pass=score>=80 and is_present\n",
        "print(f\"Can pass:{can_pass}\")"
      ]
    },
    {
      "cell_type": "markdown",
      "metadata": {
        "id": "_QFmVtHFxBmb"
      },
      "source": [
        "#**Hands-on exercise**\n",
        "#exercise2:simple calculator\n",
        "create a calculator that checks if a person qualifies for a loan"
      ]
    },
    {
      "cell_type": "code",
      "execution_count": null,
      "metadata": {
        "id": "MnXdpI-cy8ij"
      },
      "outputs": [],
      "source": [
        "#personal information\n",
        "age=25\n",
        "annual_income=50000\n",
        "credit_score=720\n",
        "has_collateral=True"
      ]
    },
    {
      "cell_type": "code",
      "execution_count": null,
      "metadata": {
        "id": "kjvWnnoBzSVs"
      },
      "outputs": [],
      "source": [
        "#loan criteria\n",
        "min_age=18\n",
        "min_income=30000\n",
        "min_credit_score=650"
      ]
    },
    {
      "cell_type": "code",
      "execution_count": null,
      "metadata": {
        "id": "cmur7nkK3ILE"
      },
      "outputs": [],
      "source": [
        "#check qualifications\n",
        "age_qualified=age>=min_age\n",
        "income_qualified=annual_income>=min_income\n",
        "credit_qualified=credit_score>=min_credit_score\n",
        "overall_qualified=age_qualified and income_qualified and credit_qualified"
      ]
    },
    {
      "cell_type": "markdown",
      "metadata": {
        "id": "zvjA4Zhk-sRD"
      },
      "source": [
        "#**Data Structures**"
      ]
    },
    {
      "cell_type": "markdown",
      "metadata": {
        "id": "OH9ApnRi-yhD"
      },
      "source": [
        "#**lists**"
      ]
    },
    {
      "cell_type": "markdown",
      "metadata": {
        "id": "1vZrXf83-44a"
      },
      "source": [
        "#creating lists"
      ]
    },
    {
      "cell_type": "code",
      "execution_count": null,
      "metadata": {
        "id": "NmmfBv86-8Ea"
      },
      "outputs": [],
      "source": [
        "fruits=[\"apple\",\"banana\",\"orange\",\"grape\"]\n",
        "numbers=[10,20,30,40,50]\n",
        "mixed_data=[1,\"hello\",3.14,True]\n"
      ]
    },
    {
      "cell_type": "markdown",
      "metadata": {
        "id": "xufyHdxL_SN7"
      },
      "source": [
        "#list indexing(0-based)"
      ]
    },
    {
      "cell_type": "code",
      "execution_count": null,
      "metadata": {
        "colab": {
          "base_uri": "https://localhost:8080/"
        },
        "id": "r1wRwkJm_XtL",
        "outputId": "ba2e4b1b-0304-4328-a39b-77298de1ccb6"
      },
      "outputs": [
        {
          "name": "stdout",
          "output_type": "stream",
          "text": [
            "first fruit:apple\n",
            "last fruit:grape\n",
            "second to last:orange\n"
          ]
        }
      ],
      "source": [
        "print(f\"first fruit:{fruits[0]}\")\n",
        "print(f\"last fruit:{fruits[-1]}\")\n",
        "print(f\"second to last:{fruits[-2]}\")"
      ]
    },
    {
      "cell_type": "markdown",
      "metadata": {
        "id": "YIFVe1FQ_11T"
      },
      "source": [
        "#list slicing"
      ]
    },
    {
      "cell_type": "code",
      "execution_count": null,
      "metadata": {
        "colab": {
          "base_uri": "https://localhost:8080/"
        },
        "id": "mKuOO1I1_5KF",
        "outputId": "1c703855-6984-45eb-9db2-7f5739354b61"
      },
      "outputs": [
        {
          "name": "stdout",
          "output_type": "stream",
          "text": [
            "first 2 fruits:['apple', 'banana']\n",
            "last 2 fruits:['orange', 'grape']\n",
            "all except first:['banana', 'orange', 'grape']\n"
          ]
        }
      ],
      "source": [
        "print(f\"first 2 fruits:{fruits[0:2]}\")\n",
        "print(f\"last 2 fruits:{fruits[-2:]}\")\n",
        "print(f\"all except first:{fruits[1:]}\")"
      ]
    },
    {
      "cell_type": "markdown",
      "metadata": {
        "id": "mLAE_BelAi0D"
      },
      "source": [
        "#list methods"
      ]
    },
    {
      "cell_type": "code",
      "execution_count": null,
      "metadata": {
        "colab": {
          "base_uri": "https://localhost:8080/"
        },
        "id": "QU1fhNr_Alu7",
        "outputId": "46238323-5e78-460e-9715-25779dae3354"
      },
      "outputs": [
        {
          "name": "stdout",
          "output_type": "stream",
          "text": [
            "updated list:['apple', 'strawberrry', 'banana', 'orange', 'grape']\n",
            "removed:kiwi\n"
          ]
        }
      ],
      "source": [
        "fruits.append(\"kiwi\") # add to end\n",
        "fruits.insert(1,\"strawberrry\") #insert at index\n",
        "removed=fruits.pop() #remove last\n",
        "print(f\"updated list:{fruits}\")\n",
        "print(f\"removed:{removed}\")"
      ]
    },
    {
      "cell_type": "markdown",
      "metadata": {
        "id": "5_zwMuu0B2TT"
      },
      "source": [
        "#list operations"
      ]
    },
    {
      "cell_type": "code",
      "execution_count": null,
      "metadata": {
        "colab": {
          "base_uri": "https://localhost:8080/"
        },
        "id": "Vv1dY7ZjB5cj",
        "outputId": "5980a85f-41a5-4112-b330-b04336f2a525"
      },
      "outputs": [
        {
          "name": "stdout",
          "output_type": "stream",
          "text": [
            "length:5\n",
            "contains 'apple':True\n",
            "index of 'banana':2\n"
          ]
        }
      ],
      "source": [
        "print(f\"length:{len(fruits)}\")\n",
        "print(f\"contains 'apple':{'apple' in fruits}\")\n",
        "print(f\"index of 'banana':{fruits.index('banana')}\")"
      ]
    },
    {
      "cell_type": "markdown",
      "metadata": {
        "id": "50w9AaClCvDE"
      },
      "source": [
        "#**Tuples**"
      ]
    },
    {
      "cell_type": "markdown",
      "metadata": {
        "id": "jPh1PxTHCzuq"
      },
      "source": [
        "#tuples are immutable"
      ]
    },
    {
      "cell_type": "code",
      "execution_count": null,
      "metadata": {
        "id": "lfa6T4FcDEp7"
      },
      "outputs": [],
      "source": [
        "coordinates=(10,20)\n",
        "rgb_color=(255,128,0)\n",
        "person_info=(\"Alice\",25,\"Engineer\", True)\n"
      ]
    },
    {
      "cell_type": "markdown",
      "metadata": {
        "id": "JVVWwoQ8Dcdi"
      },
      "source": [
        "#tuple unpacking"
      ]
    },
    {
      "cell_type": "code",
      "execution_count": null,
      "metadata": {
        "colab": {
          "base_uri": "https://localhost:8080/"
        },
        "id": "UGpAh9KYDf8L",
        "outputId": "8546eeca-c751-4e29-b4b9-03d656ab0d2a"
      },
      "outputs": [
        {
          "name": "stdout",
          "output_type": "stream",
          "text": [
            "X:10,Y:20\n"
          ]
        }
      ],
      "source": [
        "x,y=coordinates\n",
        "print(f\"X:{x},Y:{y}\")"
      ]
    },
    {
      "cell_type": "markdown",
      "metadata": {
        "id": "-cOhusYtE8br"
      },
      "source": [
        "#tuple methods"
      ]
    },
    {
      "cell_type": "code",
      "execution_count": null,
      "metadata": {
        "colab": {
          "base_uri": "https://localhost:8080/"
        },
        "id": "3aYdhgefE_x6",
        "outputId": "79c64286-8b96-4aa3-c20f-f0c5d5b72375"
      },
      "outputs": [
        {
          "name": "stdout",
          "output_type": "stream",
          "text": [
            "count of 25:1\n",
            "index of 'Engineer':2\n"
          ]
        }
      ],
      "source": [
        "print(f\"count of 25:{person_info.count(25)}\")\n",
        "print(f\"index of 'Engineer':{person_info.index('Engineer')}\")"
      ]
    },
    {
      "cell_type": "markdown",
      "metadata": {
        "id": "y36otUKaFlGa"
      },
      "source": [
        "Why use tuples?\n",
        "\n",
        "\n",
        "*   immutable(safe for dictionery keys)\n",
        "\n",
        "* slightly faster than lists\n",
        "*   good for fixed collections\n",
        "\n",
        "\n",
        "\n",
        "\n"
      ]
    }
  ],
  "metadata": {
    "colab": {
      "provenance": []
    },
    "kernelspec": {
      "display_name": "Python 3",
      "name": "python3"
    },
    "language_info": {
      "name": "python"
    }
  },
  "nbformat": 4,
  "nbformat_minor": 0
}