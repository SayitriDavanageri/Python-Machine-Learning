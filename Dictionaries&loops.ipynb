{
  "nbformat": 4,
  "nbformat_minor": 0,
  "metadata": {
    "colab": {
      "provenance": []
    },
    "kernelspec": {
      "name": "python3",
      "display_name": "Python 3"
    },
    "language_info": {
      "name": "python"
    }
  },
  "cells": [
    {
      "cell_type": "markdown",
      "source": [
        "#**Dictionaries**"
      ],
      "metadata": {
        "id": "iXQzEDR6Drsp"
      }
    },
    {
      "cell_type": "markdown",
      "metadata": {
        "id": "ivZPorL3EhDX"
      },
      "source": [
        "#dictionary creation"
      ]
    },
    {
      "cell_type": "code",
      "execution_count": null,
      "metadata": {
        "id": "dG7rwXRhEkSX"
      },
      "outputs": [],
      "source": [
        "person={\n",
        "    \"name\":\"Alice Johnson\",\n",
        "    \"age\":23,\n",
        "    \"profession\":\"Software Engineer\",\n",
        "    \"salary\":75000,\n",
        "    \"skills\":[\"Python\",\"JavaScript\",\"SQL\"]\n",
        "}"
      ]
    },
    {
      "cell_type": "markdown",
      "metadata": {
        "id": "UNNy3tRPFJqH"
      },
      "source": [
        "#Accessing values"
      ]
    },
    {
      "cell_type": "code",
      "execution_count": null,
      "metadata": {
        "colab": {
          "base_uri": "https://localhost:8080/"
        },
        "id": "Hz4O13pcFNPX",
        "outputId": "b8f445b7-9b10-444b-d4fa-55032bbec6fb"
      },
      "outputs": [
        {
          "output_type": "stream",
          "name": "stdout",
          "text": [
            "Name:Alice Johnson\n",
            "Age:23\n"
          ]
        }
      ],
      "source": [
        "print(f\"Name:{person['name']}\")\n",
        "print(f\"Age:{person.get('age','Unknown')}\") #safe access"
      ]
    },
    {
      "cell_type": "markdown",
      "metadata": {
        "id": "zx5YkT_NFloQ"
      },
      "source": [
        "#**Dictionary methods**"
      ]
    },
    {
      "cell_type": "code",
      "execution_count": null,
      "metadata": {
        "colab": {
          "base_uri": "https://localhost:8080/"
        },
        "id": "5s4U86b5FqAH",
        "outputId": "017742d2-82e2-4ec4-d0eb-2c616f98a6a2"
      },
      "outputs": [
        {
          "output_type": "stream",
          "name": "stdout",
          "text": [
            "Keys:['name', 'age', 'profession', 'salary', 'skills']\n",
            "Values:['Alice Johnson', 23, 'Software Engineer', 75000, ['Python', 'JavaScript', 'SQL']]\n",
            "Items:[('name', 'Alice Johnson'), ('age', 23), ('profession', 'Software Engineer'), ('salary', 75000), ('skills', ['Python', 'JavaScript', 'SQL'])]\n"
          ]
        }
      ],
      "source": [
        "print(f\"Keys:{list(person.keys())}\")\n",
        "print(f\"Values:{list(person.values())}\")\n",
        "print(f\"Items:{list(person.items())}\")"
      ]
    },
    {
      "cell_type": "markdown",
      "metadata": {
        "id": "ORVL1c2mGDS3"
      },
      "source": [
        "#Adding/updating"
      ]
    },
    {
      "cell_type": "code",
      "execution_count": null,
      "metadata": {
        "id": "RzKUlm6XGRmX"
      },
      "outputs": [],
      "source": [
        "person[\"location\"]=\"New York\"\n",
        "person[\"salary\"]=80000 #update existing"
      ]
    },
    {
      "cell_type": "markdown",
      "metadata": {
        "id": "rTioCsHRGenf"
      },
      "source": [
        "#Practical usecase:Inventory management"
      ]
    },
    {
      "cell_type": "code",
      "execution_count": null,
      "metadata": {
        "id": "RwwgWzS4GpLH"
      },
      "outputs": [],
      "source": [
        "inventory={\n",
        "    \"laptops\":{\n",
        "        \"quantity\":50,\n",
        "        \"price\":999.99\n",
        "    },\n",
        "    \"phones\":{\n",
        "        \"quantity\":100,\n",
        "        \"price\":599.99\n",
        "    },\n",
        "    \"tablets\":{\n",
        "        \"quantity\":30,\n",
        "        \"price\":399.99\n",
        "    }\n",
        "}"
      ]
    },
    {
      "cell_type": "markdown",
      "metadata": {
        "id": "Zz2LjeGVHeV4"
      },
      "source": [
        "#Nested access"
      ]
    },
    {
      "cell_type": "code",
      "execution_count": null,
      "metadata": {
        "colab": {
          "base_uri": "https://localhost:8080/"
        },
        "id": "cHGt3q-ZHhHf",
        "outputId": "8f38160c-076a-485e-f808-5145d8782ea4"
      },
      "outputs": [
        {
          "output_type": "stream",
          "name": "stdout",
          "text": [
            "laptop price:$999.99\n"
          ]
        }
      ],
      "source": [
        "print(f\"laptop price:${inventory['laptops']['price']}\")"
      ]
    },
    {
      "cell_type": "markdown",
      "metadata": {
        "id": "z6pBO_ZFHue-"
      },
      "source": [
        "#**Sets**"
      ]
    },
    {
      "cell_type": "markdown",
      "metadata": {
        "id": "aW-6INelHyfX"
      },
      "source": [
        "#sets contain unique elements"
      ]
    },
    {
      "cell_type": "code",
      "execution_count": null,
      "metadata": {
        "colab": {
          "base_uri": "https://localhost:8080/"
        },
        "id": "M_GQXhk5H3mW",
        "outputId": "6a223077-ba98-4f56-8f80-ee2ad14fac2a"
      },
      "outputs": [
        {
          "output_type": "stream",
          "name": "stdout",
          "text": [
            "Colors:{'red', 'blue', 'green'}\n"
          ]
        }
      ],
      "source": [
        "colors={\"red\",\"green\",\"blue\",\"red\"} #duplicate removed\n",
        "print(f\"Colors:{colors}\")"
      ]
    },
    {
      "cell_type": "markdown",
      "metadata": {
        "id": "AzM0t15WJUQv"
      },
      "source": [
        "#set operations"
      ]
    },
    {
      "cell_type": "code",
      "execution_count": null,
      "metadata": {
        "id": "vhFyp9_RJc1v"
      },
      "outputs": [],
      "source": [
        "team1_skills={\"Python\",\"JavaScript\",\"SQL\",\"React\"}\n",
        "team2_skills={\"JavaScript\",\"SQL\",\"Java\",\"Spring\"}"
      ]
    },
    {
      "cell_type": "markdown",
      "metadata": {
        "id": "ll5k1Q6TKLlf"
      },
      "source": [
        "#common operations"
      ]
    },
    {
      "cell_type": "code",
      "execution_count": null,
      "metadata": {
        "colab": {
          "base_uri": "https://localhost:8080/"
        },
        "id": "ymgGarUCKOiv",
        "outputId": "4ab48a1a-197c-4f86-d2d9-09fe63293c16"
      },
      "outputs": [
        {
          "output_type": "stream",
          "name": "stdout",
          "text": [
            "Common skills:{'JavaScript', 'SQL'}\n",
            "All skills:{'React', 'Spring', 'JavaScript', 'Java', 'Python', 'SQL'}\n",
            "Team1 only:{'React', 'Python'}\n"
          ]
        }
      ],
      "source": [
        "print(f\"Common skills:{team1_skills.intersection(team2_skills)}\")\n",
        "print(f\"All skills:{team1_skills.union(team2_skills)}\")\n",
        "print(f\"Team1 only:{team1_skills.difference(team2_skills)}\")"
      ]
    },
    {
      "cell_type": "markdown",
      "metadata": {
        "id": "9Ie4rEJsLIVg"
      },
      "source": [
        "#Adding to sets"
      ]
    },
    {
      "cell_type": "code",
      "execution_count": null,
      "metadata": {
        "colab": {
          "base_uri": "https://localhost:8080/"
        },
        "id": "_1DGFq4MLLaH",
        "outputId": "8a6af4c6-ba7b-484a-8cf2-8f29907b6a0d"
      },
      "outputs": [
        {
          "output_type": "stream",
          "name": "stdout",
          "text": [
            "updated colors:{'green', 'orange', 'red', 'purple', 'yellow', 'blue'}\n"
          ]
        }
      ],
      "source": [
        "colors.add(\"yellow\")\n",
        "colors.update([\"purple\",\"orange\"])\n",
        "print(f\"updated colors:{colors}\")"
      ]
    },
    {
      "cell_type": "markdown",
      "metadata": {
        "id": "syBClsI4PMRP"
      },
      "source": [
        "#**Control flow**"
      ]
    },
    {
      "cell_type": "markdown",
      "metadata": {
        "id": "fPmCl0PwPRdw"
      },
      "source": [
        "#conditional statements"
      ]
    },
    {
      "cell_type": "markdown",
      "metadata": {
        "id": "kNv1rRI4PVa3"
      },
      "source": [
        "#basic if-else"
      ]
    },
    {
      "cell_type": "code",
      "execution_count": null,
      "metadata": {
        "id": "A9sYiLg8PYdY"
      },
      "outputs": [],
      "source": [
        "def get_grade_letter(score):\n",
        "  if score>=90:\n",
        "    return \"A\"\n",
        "  elif score>=80:\n",
        "    return \"B\"\n",
        "  elif score >=70:\n",
        "    return \"C\"\n",
        "  elif score >=60:\n",
        "    return \"D\"\n",
        "  else:\n",
        "    return \"F\""
      ]
    },
    {
      "cell_type": "markdown",
      "metadata": {
        "id": "KBxJBUzoQFQp"
      },
      "source": [
        "#test the function"
      ]
    },
    {
      "cell_type": "code",
      "execution_count": null,
      "metadata": {
        "colab": {
          "base_uri": "https://localhost:8080/"
        },
        "id": "NcQPWcURQIio",
        "outputId": "514b1c2b-3551-4e7e-bd1b-7dd8154f9ee4"
      },
      "outputs": [
        {
          "output_type": "stream",
          "name": "stdout",
          "text": [
            "Score95:GradeA\n",
            "Score83:GradeB\n",
            "Score72:GradeC\n",
            "Score65:GradeD\n",
            "Score58:GradeF\n"
          ]
        }
      ],
      "source": [
        "test_scores=[95,83,72,65,58]\n",
        "for score in test_scores:\n",
        "  grade=get_grade_letter(score)\n",
        "  print(f\"Score{score}:Grade{grade}\")"
      ]
    },
    {
      "cell_type": "markdown",
      "metadata": {
        "id": "YgiZh8vSQnmQ"
      },
      "source": [
        "#nested conditions"
      ]
    },
    {
      "cell_type": "code",
      "execution_count": null,
      "metadata": {
        "id": "EXWKqoE-Qugo"
      },
      "outputs": [],
      "source": [
        "def get_shipping_cost(weight,distance):\n",
        "  base_cost=5.0\n",
        "  if weight<=1:\n",
        "    weight_cost=2.0\n",
        "  elif weight<=5:\n",
        "    weight_cost=5.0\n",
        "  else:\n",
        "    weight_cost=10.0\n",
        "\n",
        "  if distance<=100:\n",
        "    distance_cost=1.0\n",
        "  elif distance <=500:\n",
        "    distance_cost=3.0\n",
        "  else:\n",
        "    distance_cost=7.0\n",
        "  return base_cost + weight_cost+distance_cost\n",
        "\n"
      ]
    },
    {
      "cell_type": "markdown",
      "metadata": {
        "id": "mW7AL9VZSIVw"
      },
      "source": [
        "#test shipping costs"
      ]
    },
    {
      "cell_type": "code",
      "execution_count": null,
      "metadata": {
        "colab": {
          "base_uri": "https://localhost:8080/"
        },
        "id": "2Q0OcpLfSMHY",
        "outputId": "55841b3d-bf83-4af9-c454-cef9e0d8199a"
      },
      "outputs": [
        {
          "output_type": "stream",
          "name": "stdout",
          "text": [
            "Light,close:$8.0\n",
            "Heavy,far:$22.0\n"
          ]
        }
      ],
      "source": [
        "print(f\"Light,close:${get_shipping_cost(0.5,50)}\")\n",
        "print(f\"Heavy,far:${get_shipping_cost(10,800)}\")"
      ]
    },
    {
      "cell_type": "markdown",
      "metadata": {
        "id": "7ZeG_vTmS8J4"
      },
      "source": [
        "#**Loops-For Loop**"
      ]
    },
    {
      "cell_type": "markdown",
      "metadata": {
        "id": "0oigGds-8cpR"
      },
      "source": [
        "#basic for loop"
      ]
    },
    {
      "cell_type": "code",
      "execution_count": null,
      "metadata": {
        "colab": {
          "base_uri": "https://localhost:8080/"
        },
        "id": "AK4_N9hLWJTZ",
        "outputId": "24e5ee7c-fa19-466c-e877-56d1fe08f28d"
      },
      "outputs": [
        {
          "output_type": "stream",
          "name": "stdout",
          "text": [
            "I like apple\n",
            "I like banana\n",
            "I like orange\n",
            "I like grape\n"
          ]
        }
      ],
      "source": [
        "fruits=[\"apple\",\"banana\",\"orange\",\"grape\"]\n",
        "for fruit in fruits:\n",
        "  print(f\"I like {fruit}\")"
      ]
    },
    {
      "cell_type": "markdown",
      "metadata": {
        "id": "jKFILoBCWb9Q"
      },
      "source": [
        "#loop with enumerate(get index)"
      ]
    },
    {
      "cell_type": "code",
      "execution_count": null,
      "metadata": {
        "colab": {
          "base_uri": "https://localhost:8080/"
        },
        "outputId": "144cc1c2-c0f9-4890-fbb3-d2c0d2dc4df5",
        "id": "Slcg16n9rexx"
      },
      "outputs": [
        {
          "output_type": "stream",
          "name": "stdout",
          "text": [
            "I like apple\n",
            "I like banana\n",
            "I like orange\n",
            "I like grape\n"
          ]
        }
      ],
      "source": [
        "fruits=[\"apple\",\"banana\",\"orange\",\"grape\"]\n",
        "for fruit in fruits:\n",
        "  print(f\"I like {fruit}\")"
      ]
    },
    {
      "cell_type": "markdown",
      "metadata": {
        "id": "iZumJOSaXRBY"
      },
      "source": [
        "#loop with range"
      ]
    },
    {
      "cell_type": "code",
      "execution_count": null,
      "metadata": {
        "colab": {
          "base_uri": "https://localhost:8080/"
        },
        "id": "PTcq3cPZXTxo",
        "outputId": "96e9c65d-590d-468f-cb9a-dd9c0899c7ea"
      },
      "outputs": [
        {
          "output_type": "stream",
          "name": "stdout",
          "text": [
            "Day 1 of the week\n",
            "Day 2 of the week\n",
            "Day 3 of the week\n",
            "Day 4 of the week\n",
            "Day 5 of the week\n",
            "Day 6 of the week\n",
            "Day 7 of the week\n"
          ]
        }
      ],
      "source": [
        "for day in range(1,8):\n",
        "  print(f\"Day {day} of the week\")"
      ]
    },
    {
      "cell_type": "markdown",
      "metadata": {
        "id": "fg1auOA3Xlkg"
      },
      "source": [
        "#Nested loops-Creating a multiplication table"
      ]
    },
    {
      "cell_type": "code",
      "execution_count": null,
      "metadata": {
        "colab": {
          "base_uri": "https://localhost:8080/"
        },
        "id": "sq9l17jDYEcJ",
        "outputId": "e2f702b0-eee7-4767-b226-8a9f191ece74"
      },
      "outputs": [
        {
          "output_type": "stream",
          "name": "stdout",
          "text": [
            "Multiplication Table:\n",
            "1x1= 1 \n",
            "1x2= 2 \n",
            "1x3= 3 \n",
            "1x4= 4 \n",
            "1x5= 5 \n",
            "2x1= 2 \n",
            "2x2= 4 \n",
            "2x3= 6 \n",
            "2x4= 8 \n",
            "2x5=10 \n",
            "3x1= 3 \n",
            "3x2= 6 \n",
            "3x3= 9 \n",
            "3x4=12 \n",
            "3x5=15 \n",
            "4x1= 4 \n",
            "4x2= 8 \n",
            "4x3=12 \n",
            "4x4=16 \n",
            "4x5=20 \n",
            "5x1= 5 \n",
            "5x2=10 \n",
            "5x3=15 \n",
            "5x4=20 \n",
            "5x5=25 \n"
          ]
        }
      ],
      "source": [
        "print(\"Multiplication Table:\")\n",
        "for i in range(1,6):\n",
        "  for j in range(1,6):\n",
        "    product=i*j\n",
        "    print(f\"{i}x{j}={product:2d}\",end=\" \")\n",
        "    print() #new line after each row"
      ]
    },
    {
      "cell_type": "markdown",
      "metadata": {
        "id": "Wwd635VzY2dZ"
      },
      "source": [
        "#processing data with loops"
      ]
    },
    {
      "cell_type": "code",
      "execution_count": null,
      "metadata": {
        "colab": {
          "base_uri": "https://localhost:8080/"
        },
        "id": "E5qm1htMY7GJ",
        "outputId": "56f3e19d-332b-444b-c0c0-d47e3ef1c67e"
      },
      "outputs": [
        {
          "output_type": "stream",
          "name": "stdout",
          "text": [
            "laptop:$4995\n",
            "phone:$5990\n",
            "tablet:$3192\n",
            "Total revenue:$14177\n"
          ]
        }
      ],
      "source": [
        "sales_data=[\n",
        "    {\"product\":\"laptop\",\"price\":999,\"quantity\":5},\n",
        "    {\"product\":\"phone\",\"price\":599,\"quantity\":10},\n",
        "    {\"product\":\"tablet\",\"price\":399,\"quantity\":8},\n",
        "]\n",
        "total_revenue=0\n",
        "for item in sales_data:\n",
        "  item_revenue=item[\"price\"]*item[\"quantity\"]\n",
        "  total_revenue+=item_revenue\n",
        "  print(f\"{item['product']}:${item_revenue}\")\n",
        "\n",
        "print(f\"Total revenue:${total_revenue}\")"
      ]
    },
    {
      "cell_type": "markdown",
      "metadata": {
        "id": "ZnLXqRz7sSug"
      },
      "source": [
        "#**loops-while loop**"
      ]
    },
    {
      "cell_type": "markdown",
      "metadata": {
        "id": "yTWoX03CsdK4"
      },
      "source": [
        "#while loop for user input simulation"
      ]
    },
    {
      "cell_type": "code",
      "execution_count": null,
      "metadata": {
        "colab": {
          "base_uri": "https://localhost:8080/"
        },
        "id": "AChN4aAjsje4",
        "outputId": "0583581b-17e6-4bba-ab0b-c8ff120fe62d"
      },
      "outputs": [
        {
          "output_type": "stream",
          "name": "stdout",
          "text": [
            "guess the number between 1 to 10\n",
            "Guess1:9 - Too high!\n",
            "Guess2:4 - Too low!\n",
            "Guess3:5 - Too low!\n",
            "Guess4:5 - Too low!\n",
            "Guess5:1 - Too low!\n",
            "Guess6:10 - Too high!\n",
            "Guess7:5 - Too low!\n",
            "Guess8:7 - Correct!\n",
            "Game finished in8 attempts\n"
          ]
        }
      ],
      "source": [
        "def simple_guessing_game():\n",
        "  target=7\n",
        "  guess=0\n",
        "  attempts=0\n",
        "  print(\"guess the number between 1 to 10\")\n",
        "\n",
        "  while guess!=target:\n",
        "\n",
        "    #simulate user input\n",
        "    import random\n",
        "    guess=random.randint(1,10)\n",
        "    attempts +=1\n",
        "\n",
        "    if guess<target:\n",
        "      print(f\"Guess{attempts}:{guess} - Too low!\")\n",
        "    elif guess>target:\n",
        "      print(f\"Guess{attempts}:{guess} - Too high!\")\n",
        "    else:\n",
        "      print(f\"Guess{attempts}:{guess} - Correct!\")\n",
        "\n",
        "  #saftey check\n",
        "\n",
        "    if attempts >10:\n",
        "      print(\"Max attempts reached!\")\n",
        "      break\n",
        "\n",
        "  print(f\"Game finished in{attempts} attempts\")\n",
        "\n",
        "simple_guessing_game()\n",
        "\n",
        "\n",
        "\n"
      ]
    },
    {
      "cell_type": "markdown",
      "metadata": {
        "id": "SYLRqnZkyiYx"
      },
      "source": [
        "#while loop for processing"
      ]
    },
    {
      "cell_type": "code",
      "execution_count": null,
      "metadata": {
        "colab": {
          "base_uri": "https://localhost:8080/"
        },
        "id": "5I47mXFRymoY",
        "outputId": "afa86c01-912c-4422-d1ca-a578b0ee2b9c"
      },
      "outputs": [
        {
          "output_type": "stream",
          "name": "stdout",
          "text": [
            "Processing:Task1\n",
            "Remaining tasks:3\n",
            "Processing:Task2\n",
            "Remaining tasks:2\n",
            "Processing:Task3\n",
            "Remaining tasks:1\n",
            "Processing:Task4\n",
            "Remaining tasks:0\n",
            "All tasks are completed!\n"
          ]
        }
      ],
      "source": [
        "def process_queue():\n",
        "  queue=[\"Task1\",\"Task2\",\"Task3\",\"Task4\"]\n",
        "\n",
        "  while queue:\n",
        "    current_task=queue.pop(0) #remove first item\n",
        "    print(f\"Processing:{current_task}\")\n",
        "    print(f\"Remaining tasks:{len(queue)}\")\n",
        "  print(\"All tasks are completed!\")\n",
        "process_queue()"
      ]
    },
    {
      "cell_type": "markdown",
      "metadata": {
        "id": "HsthPdj60-ww"
      },
      "source": [
        "#**Function basics**"
      ]
    },
    {
      "cell_type": "markdown",
      "metadata": {
        "id": "HGuu5bhH1EpR"
      },
      "source": [
        "#basic function definition"
      ]
    },
    {
      "cell_type": "code",
      "execution_count": null,
      "metadata": {
        "id": "irNuMA3O1IOh"
      },
      "outputs": [],
      "source": [
        "def greet(name):\n",
        "  return f\"Hello, {name}!\""
      ]
    },
    {
      "cell_type": "markdown",
      "metadata": {
        "id": "FhgeBDEl1XDp"
      },
      "source": [
        "#function call"
      ]
    },
    {
      "cell_type": "code",
      "execution_count": null,
      "metadata": {
        "colab": {
          "base_uri": "https://localhost:8080/"
        },
        "id": "1MQYDnXA1aQh",
        "outputId": "a59320c3-16c8-4b86-f9e9-7319141a9670"
      },
      "outputs": [
        {
          "output_type": "stream",
          "name": "stdout",
          "text": [
            "Hello, Python Programmer!\n"
          ]
        }
      ],
      "source": [
        "message=greet(\"Python Programmer\")\n",
        "print(message)"
      ]
    },
    {
      "cell_type": "markdown",
      "metadata": {
        "id": "zz7cx7sI11cZ"
      },
      "source": [
        "#function with multiple parameters"
      ]
    },
    {
      "cell_type": "code",
      "execution_count": null,
      "metadata": {
        "id": "WjV5axVO16nR"
      },
      "outputs": [],
      "source": [
        "def calculate_area(length,width):\n",
        "  area=length*width\n",
        "  return area"
      ]
    },
    {
      "cell_type": "markdown",
      "metadata": {
        "id": "4LEDIB3d2Is4"
      },
      "source": [
        "#test the function"
      ]
    },
    {
      "cell_type": "code",
      "execution_count": null,
      "metadata": {
        "colab": {
          "base_uri": "https://localhost:8080/"
        },
        "id": "0tdpSy9b2MmY",
        "outputId": "39d2a643-d008-426c-cd04-3dd9c654ee34"
      },
      "outputs": [
        {
          "output_type": "stream",
          "name": "stdout",
          "text": [
            "room area:120 square feet\n"
          ]
        }
      ],
      "source": [
        "room_area=calculate_area(12,10)\n",
        "print(f\"room area:{room_area} square feet\")"
      ]
    },
    {
      "cell_type": "markdown",
      "metadata": {
        "id": "PzxOkpjK2gFg"
      },
      "source": [
        "#function with default parameters"
      ]
    },
    {
      "cell_type": "code",
      "execution_count": null,
      "metadata": {
        "id": "srY6ArU-2oYZ"
      },
      "outputs": [],
      "source": [
        "def create_user_profile(name,age=18,location=\"unknown\",active=True):\n",
        "  return{\n",
        "      \"name\":name,\n",
        "      \"age\":age,\n",
        "      \"location\":location,\n",
        "      \"active\":active\n",
        "  }"
      ]
    },
    {
      "cell_type": "markdown",
      "metadata": {
        "id": "8f-SVKgd4SBp"
      },
      "source": [
        "#**different ways to call**"
      ]
    },
    {
      "cell_type": "code",
      "execution_count": null,
      "metadata": {
        "colab": {
          "base_uri": "https://localhost:8080/"
        },
        "id": "2X4p2PD54YYJ",
        "outputId": "04fca787-ae30-4934-f97a-4cfbc2711a20"
      },
      "outputs": [
        {
          "output_type": "stream",
          "name": "stdout",
          "text": [
            "Profile1:{'name': 'Alice', 'age': 18, 'location': 'unknown', 'active': True}\n",
            "Profile2:{'name': 'Bob', 'age': 25, 'location': 'unknown', 'active': True}\n",
            "Profile3:{'name': 'Charlie', 'age': 30, 'location': 'New York', 'active': True}\n"
          ]
        }
      ],
      "source": [
        "profile1=create_user_profile(\"Alice\") #use defaults\n",
        "profile2=create_user_profile(\"Bob\",25) #override age\n",
        "profile3=create_user_profile(\"Charlie\",location=\"New York\",age=30) #named parameters\n",
        "print(f\"Profile1:{profile1}\")\n",
        "print(f\"Profile2:{profile2}\")\n",
        "print(f\"Profile3:{profile3}\")"
      ]
    },
    {
      "cell_type": "markdown",
      "metadata": {
        "id": "P3BvGwmv6A9p"
      },
      "source": [
        "#**Advanced function cocepts**"
      ]
    },
    {
      "cell_type": "markdown",
      "metadata": {
        "id": "nithzmlB8MhZ"
      },
      "source": [
        "#function returning multiple values"
      ]
    },
    {
      "cell_type": "code",
      "execution_count": null,
      "metadata": {
        "id": "eQdbEuOV8mZR"
      },
      "outputs": [],
      "source": [
        "def analyze_text(text):\n",
        "  words=text.split()\n",
        "  word_count=len(words)\n",
        "  char_count=len(text)\n",
        "  char_count_no_spaces=len(text.replace(\" \",\"\"))\n",
        "\n",
        "  return word_count,char_count,char_count_no_spaces\n",
        "\n"
      ]
    },
    {
      "cell_type": "markdown",
      "metadata": {
        "id": "9sk5lW8W9RLa"
      },
      "source": [
        "#test with sample text"
      ]
    },
    {
      "cell_type": "code",
      "execution_count": null,
      "metadata": {
        "colab": {
          "base_uri": "https://localhost:8080/"
        },
        "id": "ldLe31RC9VJS",
        "outputId": "6443b701-d411-4710-bdcc-930e55acc068"
      },
      "outputs": [
        {
          "output_type": "stream",
          "name": "stdout",
          "text": [
            "Text:'Python is a powerful programming language\n",
            "Word count:'6\n",
            "Character count:'41\n",
            "Characters (no space):'36\n"
          ]
        }
      ],
      "source": [
        "sample_text=\"Python is a powerful programming language\"\n",
        "words,chars,chars_no_space=analyze_text(sample_text)\n",
        "\n",
        "print(f\"Text:'{sample_text}\")\n",
        "print(f\"Word count:'{words}\")\n",
        "print(f\"Character count:'{chars}\")\n",
        "print(f\"Characters (no space):'{chars_no_space}\")"
      ]
    },
    {
      "cell_type": "markdown",
      "metadata": {
        "id": "VCLwr05p_EkS"
      },
      "source": [
        "#**variable-length arguments**"
      ]
    },
    {
      "cell_type": "code",
      "execution_count": null,
      "metadata": {
        "id": "jfWDICkr_X2K"
      },
      "outputs": [],
      "source": [
        "def calculate_average(*numbers):\n",
        "  if not numbers:\n",
        "    return 0\n",
        "\n",
        "  return sum(numbers)/len(numbers)\n"
      ]
    },
    {
      "cell_type": "markdown",
      "metadata": {
        "id": "8FDkqMJb_vk6"
      },
      "source": [
        "#test with different numbers of arguments"
      ]
    },
    {
      "cell_type": "code",
      "execution_count": null,
      "metadata": {
        "colab": {
          "base_uri": "https://localhost:8080/"
        },
        "id": "UCSRSJiG_2UZ",
        "outputId": "7797fc30-743b-4cbf-b37d-55f5bb2c5efb"
      },
      "outputs": [
        {
          "output_type": "stream",
          "name": "stdout",
          "text": [
            "Average of 10,20,30 : 20.0\n",
            "Average of 5,15,25,35,45 : 25.0\n",
            "Average of 100 : 100.0\n"
          ]
        }
      ],
      "source": [
        "avg1=calculate_average(10,20,30)\n",
        "avg2=calculate_average(5,15,25,35,45)\n",
        "avg3=calculate_average(100)\n",
        "\n",
        "print(f\"Average of 10,20,30 : {avg1}\")\n",
        "print(f\"Average of 5,15,25,35,45 : {avg2}\")\n",
        "print(f\"Average of 100 : {avg3}\")"
      ]
    },
    {
      "cell_type": "markdown",
      "metadata": {
        "id": "x29T3fOgBRkC"
      },
      "source": [
        "#**keyword arguments**"
      ]
    },
    {
      "cell_type": "code",
      "execution_count": null,
      "metadata": {
        "colab": {
          "base_uri": "https://localhost:8080/"
        },
        "id": "Il5ANmfIBZ9y",
        "outputId": "af0c0658-0f44-4388-bcea-bf90056c2df7"
      },
      "outputs": [
        {
          "output_type": "stream",
          "name": "stdout",
          "text": [
            "=== REPORT ===\n",
            "Title:Monthly Sales Report\n",
            "Date:2024-01-01\n",
            "Total Sales:15000\n",
            "New Customers:25\n",
            "Returning Customers:150\n",
            "============\n"
          ]
        }
      ],
      "source": [
        "def create_report(**data):\n",
        "  print(\"=== REPORT ===\")\n",
        "\n",
        "  for key, value in data.items():\n",
        "    print(f\"{key.replace('_',' ').title()}:{value}\")\n",
        "\n",
        "  print(\"============\")\n",
        "\n",
        "create_report(\n",
        "    title=\"Monthly Sales Report\",\n",
        "    date=\"2024-01-01\",\n",
        "    total_sales=15000,\n",
        "    new_customers=25,\n",
        "    returning_customers=150\n",
        ")"
      ]
    },
    {
      "cell_type": "markdown",
      "metadata": {
        "id": "JazZHL9EDAvb"
      },
      "source": [
        "#**Lambda functions**"
      ]
    },
    {
      "cell_type": "markdown",
      "metadata": {
        "id": "cDIaoqQpFMnS"
      },
      "source": [
        "#lambda functions(anonymous functions)"
      ]
    },
    {
      "cell_type": "markdown",
      "metadata": {
        "id": "1GWP0vR7FVga"
      },
      "source": [
        "#regular functions"
      ]
    },
    {
      "cell_type": "code",
      "execution_count": null,
      "metadata": {
        "id": "up2da1FdFYoZ"
      },
      "outputs": [],
      "source": [
        "def square(x):\n",
        "  return x**2"
      ]
    },
    {
      "cell_type": "markdown",
      "metadata": {
        "id": "hzTVCyZFFgoC"
      },
      "source": [
        "#lambda equivalent"
      ]
    },
    {
      "cell_type": "code",
      "execution_count": null,
      "metadata": {
        "colab": {
          "base_uri": "https://localhost:8080/"
        },
        "id": "Tde_KXZdFlMa",
        "outputId": "83731adc-357b-406e-eca7-e4892dd82c3c"
      },
      "outputs": [
        {
          "output_type": "stream",
          "name": "stdout",
          "text": [
            "Regular function:25\n",
            "Lambda function:25\n"
          ]
        }
      ],
      "source": [
        "square_lambda=lambda x:x**2\n",
        "print(f\"Regular function:{square(5)}\")\n",
        "print(f\"Lambda function:{square_lambda(5)}\")"
      ]
    },
    {
      "cell_type": "markdown",
      "metadata": {
        "id": "njCWt2wfGvuL"
      },
      "source": [
        "#Lambda with multiple arguments"
      ]
    },
    {
      "cell_type": "code",
      "execution_count": null,
      "metadata": {
        "colab": {
          "base_uri": "https://localhost:8080/"
        },
        "id": "-OJEttEvGxTi",
        "outputId": "4e1bd7e8-19cb-4467-dd8d-ba9ec4c6cb46"
      },
      "outputs": [
        {
          "output_type": "stream",
          "name": "stdout",
          "text": [
            "Multiply:12\n"
          ]
        }
      ],
      "source": [
        "multiply=lambda x,y:x*y\n",
        "print(f\"Multiply:{multiply(3,4)}\")"
      ]
    },
    {
      "cell_type": "markdown",
      "metadata": {
        "id": "k0rtMsBZHCxa"
      },
      "source": [
        "#lambda with built_in functions"
      ]
    },
    {
      "cell_type": "code",
      "execution_count": null,
      "metadata": {
        "colab": {
          "base_uri": "https://localhost:8080/"
        },
        "id": "UZv6V4zBHJ2B",
        "outputId": "adb5cee2-4565-4fa0-aba3-3998e9243b77"
      },
      "outputs": [
        {
          "output_type": "stream",
          "name": "stdout",
          "text": [
            "Squared numbers:[1, 4, 9, 16, 25]\n"
          ]
        }
      ],
      "source": [
        "numbers=[1,2,3,4,5]\n",
        "squared=list(map(lambda x: x**2,numbers))\n",
        "print(f\"Squared numbers:{squared}\")"
      ]
    },
    {
      "cell_type": "markdown",
      "metadata": {
        "id": "9lgUQV6YHjK6"
      },
      "source": [
        "#Filtering with lambda"
      ]
    },
    {
      "cell_type": "code",
      "execution_count": null,
      "metadata": {
        "colab": {
          "base_uri": "https://localhost:8080/"
        },
        "id": "61whgyHsHqXR",
        "outputId": "fa45b8d1-c648-4ed9-eccd-ce4684c01d12"
      },
      "outputs": [
        {
          "output_type": "stream",
          "name": "stdout",
          "text": [
            "Adult ages:[21, 35, 45, 18, 67] \n"
          ]
        }
      ],
      "source": [
        "ages=[16,21,35,12,45,18,67]\n",
        "adults=list(filter(lambda age: age >=18,ages))\n",
        "print(f\"Adult ages:{adults} \")"
      ]
    },
    {
      "cell_type": "markdown",
      "metadata": {
        "id": "2kIl6Ut0IjDy"
      },
      "source": [
        "#Sorting with lambda"
      ]
    },
    {
      "cell_type": "code",
      "execution_count": null,
      "metadata": {
        "colab": {
          "base_uri": "https://localhost:8080/"
        },
        "id": "GyoYeM0EIpGC",
        "outputId": "e3367f50-f352-4ea8-83ce-deeb920ec6c2"
      },
      "outputs": [
        {
          "output_type": "stream",
          "name": "stdout",
          "text": [
            "People sorted by age:\n",
            "Bob:25\n",
            "Alice:30\n",
            "Charlie:35\n"
          ]
        }
      ],
      "source": [
        "people=[\n",
        "    {\"name\":\"Alice\",\"age\":30},\n",
        "    {\"name\":\"Bob\",\"age\":25},\n",
        "    {\"name\":\"Charlie\",\"age\":35}\n",
        "]\n",
        "sorted_people=sorted(\n",
        "    people,\n",
        "    key=lambda person:person[\"age\"])\n",
        "print(\"People sorted by age:\")\n",
        "\n",
        "for person in sorted_people:\n",
        "  print(f\"{person['name']}:{person['age']}\")\n",
        "\n"
      ]
    }
  ]
}